{
 "cells": [
  {
   "cell_type": "markdown",
   "id": "1bf44f14",
   "metadata": {},
   "source": [
    "# lab-customer-analysis-round-4"
   ]
  },
  {
   "cell_type": "markdown",
   "id": "6de9f7f5",
   "metadata": {},
   "source": [
    "In today's lesson we talked about continuous distributions (mainly normal distribution), linear regression and how multicollinearity can impact the model. In this lab, we will test your knowledge on those things using the `marketing_customer_analysis.csv` file. You have been using the same data in the previous labs (round 2 and 3). You can continue using the same jupyter file. The file can be found in the `files_for_lab` folder.\n"
   ]
  },
  {
   "cell_type": "markdown",
   "id": "6cbb2ba3",
   "metadata": {},
   "source": [
    "**Use the jupyter file from the last lab (Customer Analysis Round 3)**"
   ]
  },
  {
   "cell_type": "markdown",
   "id": "04e8d26d",
   "metadata": {},
   "source": [
    "### 1. Check the data types of the columns. Get the numeric data into dataframe called `numerical` and categorical columns in a dataframe called `categoricals`.\n",
    "**Hint**: You can use np.number and np.object to select the numerical data types and categorical data types respectively\n"
   ]
  },
  {
   "cell_type": "code",
   "execution_count": null,
   "id": "6145b67d",
   "metadata": {},
   "outputs": [],
   "source": [
    "import pandas as pd\n",
    "import numpy as np\n",
    "import scipy.stats as stats\n",
    "from scipy.stats import norm\n",
    "import matplotlib.pyplot as plt\n",
    "from sklearn.linear_model import LinearRegression\n",
    "from sklearn.metrics import mean_squared_error, r2_score\n",
    "import statsmodels.api as sm\n",
    "from statsmodels.formula.api import ols\n",
    "import seaborn as sns\n",
    "import warnings\n",
    "warnings.filterwarnings('ignore')\n",
    "\n",
    "data = pd.read_csv('files_for_lab/csv_files/marketing_customer_analysis.csv')\n",
    "\n",
    "number_col = list(data.select_dtypes(include=[np.number]).columns.values)\n",
    "number_col\n",
    "#use 'data.select_dtypes(include=[np.number])' to get a full column view"
   ]
  },
  {
   "cell_type": "code",
   "execution_count": null,
   "id": "51b24a8f",
   "metadata": {},
   "outputs": [],
   "source": [
    "object_col = list(data.select_dtypes(include=[np.object]).columns.values)\n",
    "object_col"
   ]
  },
  {
   "cell_type": "markdown",
   "id": "7b261f10",
   "metadata": {},
   "source": [
    "### 2. Now we will try to check the normality of the numerical variables visually\n",
    "  - Use seaborn library to construct distribution plots for the numerical variables\n",
    "  - Use Matplotlib to construct histograms\n",
    "  - Do the distributions for different numerical variables look like a normal distribution \n"
   ]
  },
  {
   "cell_type": "code",
   "execution_count": null,
   "id": "d71ede7b",
   "metadata": {},
   "outputs": [],
   "source": [
    "for column in number_col:\n",
    "    plt.figure(figsize=(8,5))\n",
    "    sns.distplot(data[column])\n",
    "    plt.show()"
   ]
  },
  {
   "cell_type": "code",
   "execution_count": null,
   "id": "e35989a4",
   "metadata": {},
   "outputs": [],
   "source": [
    "for column in number_col:\n",
    "    plt.figure(figsize=(8,5))\n",
    "    plt.hist(data[column], bins=50)\n",
    "    plt.xlabel(column)\n",
    "    plt.show()\n",
    "    \n",
    "#Non of the variables appear normally distributed. The one that comes fairly close is total_claim_amount, although it is no really symetrical and values  smaller than the mean are not continously rising"
   ]
  },
  {
   "cell_type": "markdown",
   "id": "4cacb89e",
   "metadata": {},
   "source": [
    "### 3. For the numerical variables, check the multicollinearity between the features. Please note that we will use the column `total_claim_amount` later as the target variable. \n"
   ]
  },
  {
   "cell_type": "code",
   "execution_count": null,
   "id": "ab08c726",
   "metadata": {},
   "outputs": [],
   "source": [
    "drop_col = object_col + [number_col[7]]\n",
    "x = data.drop(drop_col, axis=1)\n",
    "y = data['Total Claim Amount']\n",
    "\n",
    "x = sm.add_constant(x)\n",
    "model = sm.OLS(y,x).fit()\n",
    "\n",
    "print(model.summary())"
   ]
  },
  {
   "cell_type": "code",
   "execution_count": null,
   "id": "172ddaa4",
   "metadata": {},
   "outputs": [],
   "source": [
    "lm = LinearRegression()\n",
    "model2 = lm.fit(x,y)\n",
    "predictions = lm.predict(x)\n",
    "rmse = mean_squared_error(y, predictions, squared=False) \n",
    "\n",
    "print(\"R2:\", round(lm.score(x,y),2)) # or r2_score(Y, predictions)\n",
    "print(\"RMSE:\", rmse)\n",
    "\n",
    "# Condition number suggests possibly strong colineanearities\n",
    "# low R**2 values suggest low predictive power of the models\n",
    "# RMSE is very high meaning prediction errors are big"
   ]
  },
  {
   "cell_type": "markdown",
   "id": "940e8ede",
   "metadata": {},
   "source": [
    "### 4. Drop one of the two features that show a high correlation between them (greater than 0.9). Write code for both the correlation matrix and for seaborn heatmap. If there is no pair of features that have a high correlation, then do not drop any features"
   ]
  },
  {
   "cell_type": "code",
   "execution_count": null,
   "id": "f344795b",
   "metadata": {},
   "outputs": [],
   "source": [
    "data_corr = data.drop(object_col, axis=1)\n",
    "c_matrix = data_corr.corr()\n",
    "c_matrix"
   ]
  },
  {
   "cell_type": "code",
   "execution_count": null,
   "id": "1aeab6f0",
   "metadata": {},
   "outputs": [],
   "source": [
    "mask = np.zeros_like(c_matrix)\n",
    "mask[np.triu_indices_from(mask)] = True\n",
    "\n",
    "fig, ax = plt.subplots(figsize=(10, 8))\n",
    "ax = sns.heatmap(c_matrix, mask=mask, annot=True)\n",
    "plt.show()\n",
    "# no features with high correlation"
   ]
  },
  {
   "cell_type": "code",
   "execution_count": null,
   "id": "7c69943e",
   "metadata": {},
   "outputs": [],
   "source": []
  }
 ],
 "metadata": {
  "kernelspec": {
   "display_name": "Python3Brew",
   "language": "python",
   "name": "python3brew"
  },
  "language_info": {
   "codemirror_mode": {
    "name": "ipython",
    "version": 3
   },
   "file_extension": ".py",
   "mimetype": "text/x-python",
   "name": "python",
   "nbconvert_exporter": "python",
   "pygments_lexer": "ipython3",
   "version": "3.9.4"
  }
 },
 "nbformat": 4,
 "nbformat_minor": 5
}
